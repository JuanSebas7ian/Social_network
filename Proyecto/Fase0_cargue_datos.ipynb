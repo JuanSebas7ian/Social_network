{
 "cells": [
  {
   "attachments": {},
   "cell_type": "markdown",
   "metadata": {},
   "source": [
    "En este notebook se puede visualizar la Fase 0: Cargue de datos y análisis visual de la red\n",
    "del proyecto en notebook o Gephi\n",
    "\n",
    "El objetivo general del proyecto es analizar las redes sociales de diferentes inversionistas para caracterizar su\n",
    "comportamiento e identificar los atributos significativos a la hora de financiar compañías. Se espera que los\n",
    "estudiantes sean capaces de aplicar los conocimientos vistos en el curso en un contexto real y llevar a cabo\n",
    "análisis e interpretaciones en el contexto del problema dado, utilizando las herramientas adecuadas. "
   ]
  },
  {
   "attachments": {},
   "cell_type": "markdown",
   "metadata": {},
   "source": [
    "## Importar Librerias"
   ]
  },
  {
   "cell_type": "code",
   "execution_count": 1,
   "metadata": {},
   "outputs": [],
   "source": [
    "import networkx as nx\n",
    "import pandas as pd\n",
    "import numpy as np\n",
    "import matplotlib.pyplot as plt"
   ]
  },
  {
   "cell_type": "code",
   "execution_count": null,
   "metadata": {},
   "outputs": [],
   "source": []
  }
 ],
 "metadata": {
  "kernelspec": {
   "display_name": ".venv",
   "language": "python",
   "name": "python3"
  },
  "language_info": {
   "codemirror_mode": {
    "name": "ipython",
    "version": 3
   },
   "file_extension": ".py",
   "mimetype": "text/x-python",
   "name": "python",
   "nbconvert_exporter": "python",
   "pygments_lexer": "ipython3",
   "version": "3.8.3"
  },
  "orig_nbformat": 4,
  "vscode": {
   "interpreter": {
    "hash": "4915eedbe6ba17e7396e2dacf5138f156379e085ae05c71a351d2d126d7e70b4"
   }
  }
 },
 "nbformat": 4,
 "nbformat_minor": 2
}
